{
  "nbformat": 4,
  "nbformat_minor": 0,
  "metadata": {
    "colab": {
      "provenance": []
    },
    "kernelspec": {
      "name": "python3",
      "display_name": "Python 3"
    },
    "language_info": {
      "name": "python"
    }
  },
  "cells": [
    {
      "cell_type": "code",
      "execution_count": 1,
      "metadata": {
        "colab": {
          "base_uri": "https://localhost:8080/"
        },
        "id": "dgXYxiYbaxI9",
        "outputId": "0770fac6-5625-467e-9cb6-8937b94d9cad"
      },
      "outputs": [
        {
          "output_type": "stream",
          "name": "stdout",
          "text": [
            "Requirement already satisfied: semawal in /usr/local/lib/python3.10/dist-packages (0.2.2)\n"
          ]
        }
      ],
      "source": [
        "# https://40uf411.github.io/SemaWal/\n",
        "!pip install semawal"
      ]
    },
    {
      "cell_type": "code",
      "source": [
        "from semawal.node import Node\n",
        "from semawal.net import Net"
      ],
      "metadata": {
        "id": "bLM9eqPWa3Qz"
      },
      "execution_count": 2,
      "outputs": []
    },
    {
      "cell_type": "code",
      "source": [
        "# creación nodos de la red semántica\n",
        "\n",
        "nodoCoche = Node(name=\"Coche\")\n",
        "nodoVolante = Node(name=\"Volante\")\n",
        "nodoAmbulancia = Node(name=\"Ambulancia\")\n",
        "nodoMatriculaAmb = Node(name=\"5674DXT\")\n",
        "nodoMatriculaCoche = Node(name=\"4532BXZ\")\n",
        "\n",
        "nodoCarruaje = Node(name=\"Carruaje\")\n",
        "nodoAutomovil = Node(name=\"Automóvil\")\n",
        "nodoBirlocho = Node(name=\"Birlocho\")\n",
        "nodoBarrocho = Node(name=\"Barrocho\")\n",
        "nodoCaballo = Node(name=\"Caballo\")\n",
        "nodoPlataforma = Node(name=\"Plataforma\")\n",
        "nodoRuedas = Node(name=\"Ruedas\")\n",
        "\n",
        "nodoVehiculo = Node(name=\"Vehículo\")\n",
        "nodoUtensilio = Node(name=\"Utensilio\")\n",
        "nodoMasculino = Node(name=\"Masculino\")\n",
        "nodoSustantivo = Node(name=\"Sustantivo\")\n",
        "nodoTransportar = Node(name=\"Transportar\")\n",
        "nodoObjetos = Node(name=\"Objetos\")\n",
        "nodoPersonas = Node(name=\"Personas\")"
      ],
      "metadata": {
        "colab": {
          "base_uri": "https://localhost:8080/"
        },
        "id": "RmXjmm-5bDKt",
        "outputId": "1cb65022-8910-4b95-fa69-d0a8040d675b"
      },
      "execution_count": 3,
      "outputs": [
        {
          "output_type": "stream",
          "name": "stdout",
          "text": [
            "[!] Created node: Coche\n",
            "[!] Created node: Volante\n",
            "[!] Created node: Ambulancia\n",
            "[!] Created node: 5674DXT\n",
            "[!] Created node: 4532BXZ\n",
            "[!] Created node: Carruaje\n",
            "[!] Created node: Automóvil\n",
            "[!] Created node: Birlocho\n",
            "[!] Created node: Barrocho\n",
            "[!] Created node: Caballo\n",
            "[!] Created node: Plataforma\n",
            "[!] Created node: Ruedas\n",
            "[!] Created node: Vehículo\n",
            "[!] Created node: Utensilio\n",
            "[!] Created node: Masculino\n",
            "[!] Created node: Sustantivo\n",
            "[!] Created node: Transportar\n",
            "[!] Created node: Objetos\n",
            "[!] Created node: Personas\n"
          ]
        }
      ]
    },
    {
      "cell_type": "code",
      "source": [
        "nodoAutomovil.type()"
      ],
      "metadata": {
        "colab": {
          "base_uri": "https://localhost:8080/",
          "height": 35
        },
        "id": "B_gSrNytciwt",
        "outputId": "b0c060a3-5ce2-4a3e-9272-0bb06e73a904"
      },
      "execution_count": 4,
      "outputs": [
        {
          "output_type": "execute_result",
          "data": {
            "text/plain": [
              "'regular'"
            ],
            "application/vnd.google.colaboratory.intrinsic+json": {
              "type": "string"
            }
          },
          "metadata": {},
          "execution_count": 4
        }
      ]
    },
    {
      "cell_type": "code",
      "source": [
        "# creación de atributos-valores\n",
        "nodoCoche.link(attribute=\"tiene_matrícula\", node=nodoMatriculaCoche, mode=1, power=1, generate=False)\n",
        "nodoCoche.link(attribute=\"tiene\", node=nodoVolante, mode=1, power=1, generate=False)\n",
        "nodoAmbulancia.link(attribute=\"tiene_matrícula\", node=nodoMatriculaAmb, mode=1, power=1, generate=False)\n",
        "\n",
        "nodoCarruaje.link(attribute=\"tiene\", node=nodoPlataforma, mode=1, power=1, generate=False)\n",
        "nodoCarruaje.link(attribute=\"tiene\", node=nodoRuedas, mode=1, power=1, generate=False)\n",
        "nodoBarrocho.link(attribute=\"usa\", node=nodoCaballo, mode=1, power=1, generate=False)\n",
        "\n",
        "nodoVehiculo.link(attribute=\"categoría\", node=nodoSustantivo, mode=1, power=1, generate=False)\n",
        "nodoVehiculo.link(attribute=\"acción\", node=nodoTransportar, mode=1, power=1, generate=False)\n",
        "nodoVehiculo.link(attribute=\"género\", node=nodoMasculino, mode=1, power=1, generate=False)\n",
        "nodoTransportar.link(attribute=\"tipo\", node=nodoObjetos, mode=1, power=1, generate=False)\n",
        "nodoTransportar.link(attribute=\"tipo\", node=nodoPersonas, mode=1, power=1, generate=False)"
      ],
      "metadata": {
        "colab": {
          "base_uri": "https://localhost:8080/"
        },
        "id": "9e6OzzHNcrkl",
        "outputId": "4731f40d-130c-4884-958b-4b951114fe2e"
      },
      "execution_count": 5,
      "outputs": [
        {
          "output_type": "stream",
          "name": "stdout",
          "text": [
            "[!] A link from  Coche  to  4532BXZ  has been made on attribute: tiene_matrícula\n",
            "[!] A link from  Coche  to  Volante  has been made on attribute: tiene\n",
            "[!] A link from  Ambulancia  to  5674DXT  has been made on attribute: tiene_matrícula\n",
            "[!] A link from  Carruaje  to  Plataforma  has been made on attribute: tiene\n",
            "[!] A link from  Carruaje  to  Ruedas  has been updated on attribute: tiene\n",
            "[!] A link from  Barrocho  to  Caballo  has been made on attribute: usa\n",
            "[!] A link from  Vehículo  to  Sustantivo  has been made on attribute: categoría\n",
            "[!] A link from  Vehículo  to  Transportar  has been made on attribute: acción\n",
            "[!] A link from  Vehículo  to  Masculino  has been made on attribute: género\n",
            "[!] A link from  Transportar  to  Objetos  has been made on attribute: tipo\n",
            "[!] A link from  Transportar  to  Personas  has been updated on attribute: tipo\n"
          ]
        },
        {
          "output_type": "execute_result",
          "data": {
            "text/plain": [
              "Transportar"
            ]
          },
          "metadata": {},
          "execution_count": 5
        }
      ]
    },
    {
      "cell_type": "code",
      "source": [
        "# creación relación es-un entre nodos: \"vehiculo es un utensilio\", \"automóvil es un vehículo\"\n",
        "nodoCoche.extends(node=nodoCarruaje)\n",
        "nodoAmbulancia.extends(node=nodoCoche)\n",
        "nodoCarruaje.extends(node=nodoVehiculo)\n",
        "nodoAutomovil.extends(node=nodoCarruaje)\n",
        "nodoVehiculo.extends(node=nodoUtensilio)\n",
        "\n",
        "# instancias\n",
        "nodoBirlocho.extends(node=nodoCarruaje)\n",
        "nodoBarrocho.extends(node=nodoCarruaje)"
      ],
      "metadata": {
        "colab": {
          "base_uri": "https://localhost:8080/"
        },
        "id": "n0H5Dsb4eFzJ",
        "outputId": "0cc7c61f-ea35-43ba-91a5-13ad7ce3b6dc"
      },
      "execution_count": 6,
      "outputs": [
        {
          "output_type": "execute_result",
          "data": {
            "text/plain": [
              "Barrocho"
            ]
          },
          "metadata": {},
          "execution_count": 6
        }
      ]
    },
    {
      "cell_type": "code",
      "source": [
        "# creación relación bidireccional entre nodos: \"automóvil es sinónimo de carruaje\", \"birlocho es sinónimo de barrocho\"\n",
        "nodoCoche.mutualLink(attribute=\"is_synonym\", node=nodoAutomovil, mode=1, power=1)\n",
        "nodoBirlocho.mutualLink(attribute=\"is_synonym\", node=nodoBarrocho, mode=1, power=1)"
      ],
      "metadata": {
        "colab": {
          "base_uri": "https://localhost:8080/"
        },
        "id": "do8y6U63XQve",
        "outputId": "c4fce05d-50a5-4a65-8d45-ff6c95e5f7b5"
      },
      "execution_count": 7,
      "outputs": [
        {
          "output_type": "stream",
          "name": "stdout",
          "text": [
            "[!] A link from  Automóvil  to  Coche  has been made on attribute: is_synonym\n",
            "[!] A link from  Coche  to  Automóvil  has been made on attribute: is_synonym\n",
            "[!] A link from  Barrocho  to  Birlocho  has been made on attribute: is_synonym\n",
            "[!] A link from  Birlocho  to  Barrocho  has been made on attribute: is_synonym\n"
          ]
        },
        {
          "output_type": "execute_result",
          "data": {
            "text/plain": [
              "Birlocho"
            ]
          },
          "metadata": {},
          "execution_count": 7
        }
      ]
    },
    {
      "cell_type": "code",
      "source": [
        "# consultar la lista de todos los enlaces del nodoAutomóvil\n",
        "nodoVehiculo.getLinks(generate=True)"
      ],
      "metadata": {
        "colab": {
          "base_uri": "https://localhost:8080/"
        },
        "id": "4PlaJNLYNDkw",
        "outputId": "e93e3884-53a2-4408-9b64-261e36d4d1e8"
      },
      "execution_count": 8,
      "outputs": [
        {
          "output_type": "execute_result",
          "data": {
            "text/plain": [
              "{'categoría': [[Sustantivo, 1, 1]],\n",
              " 'acción': [[Transportar, 1, 1]],\n",
              " 'género': [[Masculino, 1, 1]]}"
            ]
          },
          "metadata": {},
          "execution_count": 8
        }
      ]
    },
    {
      "cell_type": "code",
      "source": [
        "# consultar la lista de todos los enlaces del nodoAutomóvil\n",
        "nodoAutomovil.getLinks(generate=True)"
      ],
      "metadata": {
        "colab": {
          "base_uri": "https://localhost:8080/"
        },
        "outputId": "ee2cf120-9b3c-4e8d-f815-921be5efa58e",
        "id": "gtzRbJ08bvEe"
      },
      "execution_count": 9,
      "outputs": [
        {
          "output_type": "execute_result",
          "data": {
            "text/plain": [
              "{'categoría': [[Sustantivo, 1, 1]],\n",
              " 'acción': [[Transportar, 1, 1]],\n",
              " 'género': [[Masculino, 1, 1]],\n",
              " 'tiene': [[Plataforma, 1, 1], [Ruedas, 1, 1]],\n",
              " 'is_synonym': [[Coche, 1, 1]]}"
            ]
          },
          "metadata": {},
          "execution_count": 9
        }
      ]
    },
    {
      "cell_type": "code",
      "source": [
        "netA = Net(name=\"Red semántica de coche\", type=\"regular\")"
      ],
      "metadata": {
        "id": "QzQrei_Jbmgn",
        "colab": {
          "base_uri": "https://localhost:8080/"
        },
        "outputId": "7dab7349-4873-427e-9cf3-1bee48ffdb19"
      },
      "execution_count": 10,
      "outputs": [
        {
          "output_type": "stream",
          "name": "stdout",
          "text": [
            "[!] Created node: Red semántica de coche\n",
            "[!] Created network  Red semántica de coche\n"
          ]
        }
      ]
    },
    {
      "cell_type": "code",
      "source": [
        "netA.appendAll([nodoCoche, nodoVolante, nodoAmbulancia, nodoMatriculaAmb, nodoMatriculaCoche, nodoCarruaje, nodoAutomovil, nodoBirlocho, nodoBarrocho, nodoCaballo, nodoPlataforma, nodoRuedas, nodoVehiculo, nodoUtensilio, nodoMasculino, nodoSustantivo, nodoTransportar, nodoObjetos, nodoPersonas])"
      ],
      "metadata": {
        "id": "8CzIgjPGbqcJ"
      },
      "execution_count": 11,
      "outputs": []
    },
    {
      "cell_type": "code",
      "source": [
        "netA.showLinks(node=None)"
      ],
      "metadata": {
        "colab": {
          "base_uri": "https://localhost:8080/"
        },
        "id": "sVxx6i6wccBB",
        "outputId": "bdc20d8a-aee7-48f8-c4ca-7c537ecca4d7"
      },
      "execution_count": 12,
      "outputs": [
        {
          "output_type": "stream",
          "name": "stdout",
          "text": [
            "Coche \t|  extends\t|   Carruaje\n",
            "Coche \t|  relation:  categoría \t|   Sustantivo  \t| mode:  1  power:  1\n",
            "Coche \t|  relation:  acción \t|   Transportar  \t| mode:  1  power:  1\n",
            "Coche \t|  relation:  género \t|   Masculino  \t| mode:  1  power:  1\n",
            "Coche \t|  relation:  tiene \t|   Plataforma  \t| mode:  1  power:  1\n",
            "Coche \t|  relation:  tiene \t|   Ruedas  \t| mode:  1  power:  1\n",
            "Coche \t|  relation:  tiene_matrícula \t|   4532BXZ  \t| mode:  1  power:  1\n",
            "Coche \t|  relation:  is_synonym \t|   Automóvil  \t| mode:  1  power:  1\n",
            "Ambulancia \t|  extends\t|   Coche\n",
            "Ambulancia \t|  relation:  categoría \t|   Sustantivo  \t| mode:  1  power:  1\n",
            "Ambulancia \t|  relation:  acción \t|   Transportar  \t| mode:  1  power:  1\n",
            "Ambulancia \t|  relation:  género \t|   Masculino  \t| mode:  1  power:  1\n",
            "Ambulancia \t|  relation:  tiene \t|   Plataforma  \t| mode:  1  power:  1\n",
            "Ambulancia \t|  relation:  tiene \t|   Ruedas  \t| mode:  1  power:  1\n",
            "Ambulancia \t|  relation:  tiene_matrícula \t|   4532BXZ  \t| mode:  1  power:  1\n",
            "Ambulancia \t|  relation:  is_synonym \t|   Automóvil  \t| mode:  1  power:  1\n",
            "Carruaje \t|  extends\t|   Vehículo\n",
            "Carruaje \t|  relation:  categoría \t|   Sustantivo  \t| mode:  1  power:  1\n",
            "Carruaje \t|  relation:  acción \t|   Transportar  \t| mode:  1  power:  1\n",
            "Carruaje \t|  relation:  género \t|   Masculino  \t| mode:  1  power:  1\n",
            "Carruaje \t|  relation:  tiene \t|   Plataforma  \t| mode:  1  power:  1\n",
            "Carruaje \t|  relation:  tiene \t|   Ruedas  \t| mode:  1  power:  1\n",
            "Automóvil \t|  extends\t|   Carruaje\n",
            "Automóvil \t|  relation:  categoría \t|   Sustantivo  \t| mode:  1  power:  1\n",
            "Automóvil \t|  relation:  acción \t|   Transportar  \t| mode:  1  power:  1\n",
            "Automóvil \t|  relation:  género \t|   Masculino  \t| mode:  1  power:  1\n",
            "Automóvil \t|  relation:  tiene \t|   Plataforma  \t| mode:  1  power:  1\n",
            "Automóvil \t|  relation:  tiene \t|   Ruedas  \t| mode:  1  power:  1\n",
            "Automóvil \t|  relation:  is_synonym \t|   Coche  \t| mode:  1  power:  1\n",
            "Birlocho \t|  extends\t|   Carruaje\n",
            "Birlocho \t|  relation:  categoría \t|   Sustantivo  \t| mode:  1  power:  1\n",
            "Birlocho \t|  relation:  acción \t|   Transportar  \t| mode:  1  power:  1\n",
            "Birlocho \t|  relation:  género \t|   Masculino  \t| mode:  1  power:  1\n",
            "Birlocho \t|  relation:  tiene \t|   Plataforma  \t| mode:  1  power:  1\n",
            "Birlocho \t|  relation:  tiene \t|   Ruedas  \t| mode:  1  power:  1\n",
            "Birlocho \t|  relation:  is_synonym \t|   Barrocho  \t| mode:  1  power:  1\n",
            "Barrocho \t|  extends\t|   Carruaje\n",
            "Barrocho \t|  relation:  categoría \t|   Sustantivo  \t| mode:  1  power:  1\n",
            "Barrocho \t|  relation:  acción \t|   Transportar  \t| mode:  1  power:  1\n",
            "Barrocho \t|  relation:  género \t|   Masculino  \t| mode:  1  power:  1\n",
            "Barrocho \t|  relation:  tiene \t|   Plataforma  \t| mode:  1  power:  1\n",
            "Barrocho \t|  relation:  tiene \t|   Ruedas  \t| mode:  1  power:  1\n",
            "Barrocho \t|  relation:  usa \t|   Caballo  \t| mode:  1  power:  1\n",
            "Barrocho \t|  relation:  is_synonym \t|   Birlocho  \t| mode:  1  power:  1\n",
            "Vehículo \t|  extends\t|   Utensilio\n",
            "Vehículo \t|  relation:  categoría \t|   Sustantivo  \t| mode:  1  power:  1\n",
            "Vehículo \t|  relation:  acción \t|   Transportar  \t| mode:  1  power:  1\n",
            "Vehículo \t|  relation:  género \t|   Masculino  \t| mode:  1  power:  1\n",
            "Transportar \t|  relation:  tipo \t|   Objetos  \t| mode:  1  power:  1\n",
            "Transportar \t|  relation:  tipo \t|   Personas  \t| mode:  1  power:  1\n"
          ]
        }
      ]
    }
  ]
}