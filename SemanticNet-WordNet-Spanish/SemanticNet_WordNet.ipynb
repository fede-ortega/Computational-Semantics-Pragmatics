{
  "nbformat": 4,
  "nbformat_minor": 0,
  "metadata": {
    "colab": {
      "provenance": []
    },
    "kernelspec": {
      "name": "python3",
      "display_name": "Python 3"
    },
    "language_info": {
      "name": "python"
    }
  },
  "cells": [
    {
      "cell_type": "markdown",
      "source": [
        "# Práctica WordNet\n",
        "\n",
        "Federico Ortega Riba"
      ],
      "metadata": {
        "id": "hDhQRB7lwe0N"
      }
    },
    {
      "cell_type": "markdown",
      "source": [
        "## Paso 0. Para empezar necesitamos responder a estas tres cuestiones"
      ],
      "metadata": {
        "id": "D7ARjocUwXe2"
      }
    },
    {
      "cell_type": "markdown",
      "source": [
        "**¿Qué es WordNet?**\n",
        "\n",
        "WordNet es una base de datos léxica del idioma inglés que agrupa las palabras en conjuntos de sinónimos llamados \"synsets\" (conjuntos de sinónimos). Cada synset está interconectado con otros mediante relaciones semánticas como hiperonimia (relación de \"es-un\"), hiponimia (relación de \"es-un-tipo-de\"), antonimia, etc.\n",
        "\n",
        "\n",
        "**¿Cómo está estructurado WordNet (componentes y relaciones)?**\n",
        "\n",
        "WordNet está estructurado en tres componentes principales:\n",
        "\n",
        "1. **Nodos (Synsets)**: Cada nodo representa un conjunto de palabras intercambiables en un contexto específico. Cada synset tiene un identificador único.\n",
        "\n",
        "2. **Relaciones**: Hay varias relaciones semánticas entre synsets, como hiperonimia (una relación de \"es-un\"), hiponimia (una relación de \"es-un-tipo-de\"), antonimia, meronimia (relación parte-todo), etc.\n",
        "\n",
        "3. **Léxico**: Cada synset contiene un conjunto de palabras que son intercambiables en algún contexto."
      ],
      "metadata": {
        "id": "w3XUAqxcwjpl"
      }
    },
    {
      "cell_type": "markdown",
      "source": [
        "## Paso 1. Obtener los significados de 'car'. Guardarlos en la variable sig_car\n",
        "\n",
        "* ¿Qué tipo de datos es cada significado de 'car'? Cada significado es un synset"
      ],
      "metadata": {
        "id": "sUUA_N060LJ2"
      }
    },
    {
      "cell_type": "code",
      "execution_count": null,
      "metadata": {
        "id": "GwdXaPb37hec"
      },
      "outputs": [],
      "source": [
        "import nltk"
      ]
    },
    {
      "cell_type": "code",
      "source": [
        "nltk.download('wordnet')"
      ],
      "metadata": {
        "colab": {
          "base_uri": "https://localhost:8080/"
        },
        "id": "cXWmARWP7syQ",
        "outputId": "2a5b90cc-ff80-4d0b-9794-a20846057f05"
      },
      "execution_count": null,
      "outputs": [
        {
          "output_type": "stream",
          "name": "stderr",
          "text": [
            "[nltk_data] Downloading package wordnet to /root/nltk_data...\n"
          ]
        },
        {
          "output_type": "execute_result",
          "data": {
            "text/plain": [
              "True"
            ]
          },
          "metadata": {},
          "execution_count": 2
        }
      ]
    },
    {
      "cell_type": "code",
      "source": [
        "from nltk.corpus import wordnet as wn"
      ],
      "metadata": {
        "id": "JlmNoaGd7xop"
      },
      "execution_count": null,
      "outputs": []
    },
    {
      "cell_type": "code",
      "source": [
        "sig_car = wn.synsets('car')\n",
        "sig_car"
      ],
      "metadata": {
        "colab": {
          "base_uri": "https://localhost:8080/"
        },
        "id": "cMVXoV_x8tJk",
        "outputId": "3539c3bc-2831-447f-e7e5-62da8066b11e"
      },
      "execution_count": null,
      "outputs": [
        {
          "output_type": "execute_result",
          "data": {
            "text/plain": [
              "[Synset('car.n.01'),\n",
              " Synset('car.n.02'),\n",
              " Synset('car.n.03'),\n",
              " Synset('car.n.04'),\n",
              " Synset('cable_car.n.01')]"
            ]
          },
          "metadata": {},
          "execution_count": 4
        }
      ]
    },
    {
      "cell_type": "code",
      "source": [
        "str(wn.synsets('car')[0].name())\n",
        "wn.synsets('WORD')\n",
        "wn.synsets('WORD', pos = wn.VERB)"
      ],
      "metadata": {
        "colab": {
          "base_uri": "https://localhost:8080/"
        },
        "id": "FZjnLzjI864k",
        "outputId": "a0402af1-6d45-4f85-c561-3526020fa370"
      },
      "execution_count": null,
      "outputs": [
        {
          "output_type": "execute_result",
          "data": {
            "text/plain": [
              "[Synset('give_voice.v.01')]"
            ]
          },
          "metadata": {},
          "execution_count": 5
        }
      ]
    },
    {
      "cell_type": "markdown",
      "source": [
        "## Paso 2. Obtener el identificador del primer significado de 'car'. Comprobar si tiene categoría nombre"
      ],
      "metadata": {
        "id": "-V2jiJHS0TON"
      }
    },
    {
      "cell_type": "code",
      "source": [
        "import re\n",
        "reg_ex = '\\.n\\.'\n",
        "parser = re.compile(reg_ex)\n",
        "match = parser.search(str(sig_car[0]))\n",
        "if match.group() == '.n.':\n",
        "  print('car es un nombre')"
      ],
      "metadata": {
        "colab": {
          "base_uri": "https://localhost:8080/"
        },
        "id": "Il2g8wQ59UTY",
        "outputId": "ccc24982-2fc2-4ab1-d2dd-de09fdb7a4c4"
      },
      "execution_count": null,
      "outputs": [
        {
          "output_type": "stream",
          "name": "stdout",
          "text": [
            "car es un nombre\n"
          ]
        }
      ]
    },
    {
      "cell_type": "code",
      "source": [
        "if wn.synsets('car')[0].pos=='n':\n",
        "  print('car es un nombre')\n",
        "\n",
        "else:\n",
        "  print(\"No se puede\")"
      ],
      "metadata": {
        "colab": {
          "base_uri": "https://localhost:8080/"
        },
        "id": "B82FBn3D-F9M",
        "outputId": "2f9d2f0c-2cc5-47ed-809d-42ea079128c2"
      },
      "execution_count": null,
      "outputs": [
        {
          "output_type": "stream",
          "name": "stdout",
          "text": [
            "No se puede\n"
          ]
        }
      ]
    },
    {
      "cell_type": "code",
      "source": [
        "if 'n' in str(wn.synsets('car')[0].name):\n",
        "  print('car es nombre')\n",
        "\n",
        "else:\n",
        "  print(\"No se puede\")"
      ],
      "metadata": {
        "colab": {
          "base_uri": "https://localhost:8080/"
        },
        "id": "JcXZ_7-8BMqu",
        "outputId": "43d11570-6a9f-4e4e-a871-3226594698fc"
      },
      "execution_count": null,
      "outputs": [
        {
          "output_type": "stream",
          "name": "stdout",
          "text": [
            "car es nombre\n"
          ]
        }
      ]
    },
    {
      "cell_type": "markdown",
      "source": [
        "## Paso 3. Exploramos dentro de un synset:"
      ],
      "metadata": {
        "id": "zf7aJy770cWC"
      }
    },
    {
      "cell_type": "markdown",
      "source": [
        "* Obtener los lemas del primer synset. Responder a las cuestiones siguientes:\n",
        " * ¿qué método(s) se utiliza(n): .lemmas y .lemma_name\n",
        " * ¿cuál es la estructura de datos de la salida? Una lista\n",
        " * desde el punto de vista lingüístico, ¿qué relación une a estos lemas? car, motorcar, auto, automobile son cohipónomos entre sí e hipónimos de machine, que es el hiperónimo\n",
        "\n",
        "* Obtener la definición del primer synset.\n",
        "  * ¿De qué tipo de datos es? Una cadena\n",
        "  * ¿cómo se obtiene la definición en tipo de datos string? Con el método .definition\n",
        "* Obtener los ejemplos del primer synset.\n",
        "  * ¿Cuántos ejemplos hay? 5 ejemplos para cada uno de los significados\n"
      ],
      "metadata": {
        "id": "noFCQTkrbK7i"
      }
    },
    {
      "cell_type": "code",
      "source": [
        "sig_car[0].lemmas"
      ],
      "metadata": {
        "colab": {
          "base_uri": "https://localhost:8080/",
          "height": 121
        },
        "outputId": "15993566-1eb7-4e0d-f403-840a2dd228c6",
        "id": "JM6XpMTX42tH"
      },
      "execution_count": null,
      "outputs": [
        {
          "output_type": "execute_result",
          "data": {
            "text/plain": [
              "<bound method Synset.lemmas of Synset('car.n.01')>"
            ],
            "text/html": [
              "<div style=\"max-width:800px; border: 1px solid var(--colab-border-color);\"><style>\n",
              "      pre.function-repr-contents {\n",
              "        overflow-x: auto;\n",
              "        padding: 8px 12px;\n",
              "        max-height: 500px;\n",
              "      }\n",
              "\n",
              "      pre.function-repr-contents.function-repr-contents-collapsed {\n",
              "        cursor: pointer;\n",
              "        max-height: 100px;\n",
              "      }\n",
              "    </style>\n",
              "    <pre style=\"white-space: initial; background:\n",
              "         var(--colab-secondary-surface-color); padding: 8px 12px;\n",
              "         border-bottom: 1px solid var(--colab-border-color);\"><b>nltk.corpus.reader.wordnet.Synset.lemmas</b><br/>def lemmas(lang=&#x27;eng&#x27;)</pre><pre class=\"function-repr-contents function-repr-contents-collapsed\" style=\"\"><a class=\"filepath\" style=\"display:none\" href=\"#\">/usr/local/lib/python3.10/dist-packages/nltk/corpus/reader/wordnet.py</a>Return all the lemma objects associated with the synset</pre>\n",
              "      <script>\n",
              "      if (google.colab.kernel.accessAllowed && google.colab.files && google.colab.files.view) {\n",
              "        for (const element of document.querySelectorAll('.filepath')) {\n",
              "          element.style.display = 'block'\n",
              "          element.onclick = (event) => {\n",
              "            event.preventDefault();\n",
              "            event.stopPropagation();\n",
              "            google.colab.files.view(element.textContent, 497);\n",
              "          };\n",
              "        }\n",
              "      }\n",
              "      for (const element of document.querySelectorAll('.function-repr-contents')) {\n",
              "        element.onclick = (event) => {\n",
              "          event.preventDefault();\n",
              "          event.stopPropagation();\n",
              "          element.classList.toggle('function-repr-contents-collapsed');\n",
              "        };\n",
              "      }\n",
              "      </script>\n",
              "      </div>"
            ]
          },
          "metadata": {},
          "execution_count": 9
        }
      ]
    },
    {
      "cell_type": "code",
      "source": [
        "# Verificamos si se encontraron synsets\n",
        "if sig_car:\n",
        "    # Obtenemos el primer synset encontrado\n",
        "    primer_synset = sig_car[0]\n",
        "\n",
        "    # Obtenemos los lemmas asociados con el synset\n",
        "    lemmas = primer_synset.lemmas()\n",
        "\n",
        "    # Imprimimos los lemmas\n",
        "    for lemma in lemmas:\n",
        "        print(\"Lemma:\", lemma.name())\n",
        "else:\n",
        "    print(\"No se encontraron synsets para 'car'\")"
      ],
      "metadata": {
        "colab": {
          "base_uri": "https://localhost:8080/"
        },
        "id": "uJAtYVeldQCG",
        "outputId": "0abc1dbd-fa09-43a7-b364-9f373a2e9227"
      },
      "execution_count": null,
      "outputs": [
        {
          "output_type": "stream",
          "name": "stdout",
          "text": [
            "Lemma: car\n",
            "Lemma: auto\n",
            "Lemma: automobile\n",
            "Lemma: machine\n",
            "Lemma: motorcar\n"
          ]
        }
      ]
    },
    {
      "cell_type": "code",
      "source": [
        "sig_car[0].lemma_names"
      ],
      "metadata": {
        "colab": {
          "base_uri": "https://localhost:8080/",
          "height": 121
        },
        "id": "o-7VY-czbtz4",
        "outputId": "bfa65203-f9c3-4518-c96c-5fe15fb11945"
      },
      "execution_count": null,
      "outputs": [
        {
          "output_type": "execute_result",
          "data": {
            "text/plain": [
              "<bound method Synset.lemma_names of Synset('car.n.01')>"
            ],
            "text/html": [
              "<div style=\"max-width:800px; border: 1px solid var(--colab-border-color);\"><style>\n",
              "      pre.function-repr-contents {\n",
              "        overflow-x: auto;\n",
              "        padding: 8px 12px;\n",
              "        max-height: 500px;\n",
              "      }\n",
              "\n",
              "      pre.function-repr-contents.function-repr-contents-collapsed {\n",
              "        cursor: pointer;\n",
              "        max-height: 100px;\n",
              "      }\n",
              "    </style>\n",
              "    <pre style=\"white-space: initial; background:\n",
              "         var(--colab-secondary-surface-color); padding: 8px 12px;\n",
              "         border-bottom: 1px solid var(--colab-border-color);\"><b>nltk.corpus.reader.wordnet.Synset.lemma_names</b><br/>def lemma_names(lang=&#x27;eng&#x27;)</pre><pre class=\"function-repr-contents function-repr-contents-collapsed\" style=\"\"><a class=\"filepath\" style=\"display:none\" href=\"#\">/usr/local/lib/python3.10/dist-packages/nltk/corpus/reader/wordnet.py</a>Return all the lemma_names associated with the synset</pre>\n",
              "      <script>\n",
              "      if (google.colab.kernel.accessAllowed && google.colab.files && google.colab.files.view) {\n",
              "        for (const element of document.querySelectorAll('.filepath')) {\n",
              "          element.style.display = 'block'\n",
              "          element.onclick = (event) => {\n",
              "            event.preventDefault();\n",
              "            event.stopPropagation();\n",
              "            google.colab.files.view(element.textContent, 484);\n",
              "          };\n",
              "        }\n",
              "      }\n",
              "      for (const element of document.querySelectorAll('.function-repr-contents')) {\n",
              "        element.onclick = (event) => {\n",
              "          event.preventDefault();\n",
              "          event.stopPropagation();\n",
              "          element.classList.toggle('function-repr-contents-collapsed');\n",
              "        };\n",
              "      }\n",
              "      </script>\n",
              "      </div>"
            ]
          },
          "metadata": {},
          "execution_count": 11
        }
      ]
    },
    {
      "cell_type": "code",
      "source": [
        "if sig_car:\n",
        "    primer_synset = sig_car[0]\n",
        "\n",
        "    lemma_names = primer_synset.lemma_names()\n",
        "\n",
        "    print(\"Lemma names:\", lemma_names)\n",
        "else:\n",
        "    print(\"No se encontraron synsets para 'car'\")\n"
      ],
      "metadata": {
        "colab": {
          "base_uri": "https://localhost:8080/"
        },
        "id": "5w8HhTS8dz-1",
        "outputId": "7e266014-cba0-4265-af83-b6dfbceafa93"
      },
      "execution_count": null,
      "outputs": [
        {
          "output_type": "stream",
          "name": "stdout",
          "text": [
            "Lemma names: ['car', 'auto', 'automobile', 'machine', 'motorcar']\n"
          ]
        }
      ]
    },
    {
      "cell_type": "code",
      "source": [
        "sig_car[0].definition"
      ],
      "metadata": {
        "colab": {
          "base_uri": "https://localhost:8080/",
          "height": 121
        },
        "id": "0Y_MTgwTbuB-",
        "outputId": "b307bef0-4106-4d23-e383-4812c20c8829"
      },
      "execution_count": null,
      "outputs": [
        {
          "output_type": "execute_result",
          "data": {
            "text/plain": [
              "<bound method Synset.definition of Synset('car.n.01')>"
            ],
            "text/html": [
              "<div style=\"max-width:800px; border: 1px solid var(--colab-border-color);\"><style>\n",
              "      pre.function-repr-contents {\n",
              "        overflow-x: auto;\n",
              "        padding: 8px 12px;\n",
              "        max-height: 500px;\n",
              "      }\n",
              "\n",
              "      pre.function-repr-contents.function-repr-contents-collapsed {\n",
              "        cursor: pointer;\n",
              "        max-height: 100px;\n",
              "      }\n",
              "    </style>\n",
              "    <pre style=\"white-space: initial; background:\n",
              "         var(--colab-secondary-surface-color); padding: 8px 12px;\n",
              "         border-bottom: 1px solid var(--colab-border-color);\"><b>nltk.corpus.reader.wordnet.Synset.definition</b><br/>def definition(lang=&#x27;eng&#x27;)</pre><pre class=\"function-repr-contents function-repr-contents-collapsed\" style=\"\"><a class=\"filepath\" style=\"display:none\" href=\"#\">/usr/local/lib/python3.10/dist-packages/nltk/corpus/reader/wordnet.py</a>Return definition in specified language</pre>\n",
              "      <script>\n",
              "      if (google.colab.kernel.accessAllowed && google.colab.files && google.colab.files.view) {\n",
              "        for (const element of document.querySelectorAll('.filepath')) {\n",
              "          element.style.display = 'block'\n",
              "          element.onclick = (event) => {\n",
              "            event.preventDefault();\n",
              "            event.stopPropagation();\n",
              "            google.colab.files.view(element.textContent, 467);\n",
              "          };\n",
              "        }\n",
              "      }\n",
              "      for (const element of document.querySelectorAll('.function-repr-contents')) {\n",
              "        element.onclick = (event) => {\n",
              "          event.preventDefault();\n",
              "          event.stopPropagation();\n",
              "          element.classList.toggle('function-repr-contents-collapsed');\n",
              "        };\n",
              "      }\n",
              "      </script>\n",
              "      </div>"
            ]
          },
          "metadata": {},
          "execution_count": 13
        }
      ]
    },
    {
      "cell_type": "code",
      "source": [
        "if sig_car:\n",
        "    car_definition = sig_car[0].definition()\n",
        "    print(\"Definición de 'car':\", car_definition)\n",
        "else:\n",
        "    print(\"No se encontraron synsets para 'car'\")"
      ],
      "metadata": {
        "colab": {
          "base_uri": "https://localhost:8080/"
        },
        "id": "uteMJpt9crcq",
        "outputId": "d715bc9a-e921-461e-9cd5-72ae26112570"
      },
      "execution_count": null,
      "outputs": [
        {
          "output_type": "stream",
          "name": "stdout",
          "text": [
            "Definición de 'car': a motor vehicle with four wheels; usually propelled by an internal combustion engine\n"
          ]
        }
      ]
    },
    {
      "cell_type": "code",
      "source": [
        "sig_car[0].examples"
      ],
      "metadata": {
        "colab": {
          "base_uri": "https://localhost:8080/",
          "height": 121
        },
        "id": "XYQ3NKC9bw5i",
        "outputId": "346f19f2-7fd4-496d-e13f-d05c7232b7b0"
      },
      "execution_count": null,
      "outputs": [
        {
          "output_type": "execute_result",
          "data": {
            "text/plain": [
              "<bound method Synset.examples of Synset('car.n.01')>"
            ],
            "text/html": [
              "<div style=\"max-width:800px; border: 1px solid var(--colab-border-color);\"><style>\n",
              "      pre.function-repr-contents {\n",
              "        overflow-x: auto;\n",
              "        padding: 8px 12px;\n",
              "        max-height: 500px;\n",
              "      }\n",
              "\n",
              "      pre.function-repr-contents.function-repr-contents-collapsed {\n",
              "        cursor: pointer;\n",
              "        max-height: 100px;\n",
              "      }\n",
              "    </style>\n",
              "    <pre style=\"white-space: initial; background:\n",
              "         var(--colab-secondary-surface-color); padding: 8px 12px;\n",
              "         border-bottom: 1px solid var(--colab-border-color);\"><b>nltk.corpus.reader.wordnet.Synset.examples</b><br/>def examples(lang=&#x27;eng&#x27;)</pre><pre class=\"function-repr-contents function-repr-contents-collapsed\" style=\"\"><a class=\"filepath\" style=\"display:none\" href=\"#\">/usr/local/lib/python3.10/dist-packages/nltk/corpus/reader/wordnet.py</a>Return examples in specified language</pre>\n",
              "      <script>\n",
              "      if (google.colab.kernel.accessAllowed && google.colab.files && google.colab.files.view) {\n",
              "        for (const element of document.querySelectorAll('.filepath')) {\n",
              "          element.style.display = 'block'\n",
              "          element.onclick = (event) => {\n",
              "            event.preventDefault();\n",
              "            event.stopPropagation();\n",
              "            google.colab.files.view(element.textContent, 471);\n",
              "          };\n",
              "        }\n",
              "      }\n",
              "      for (const element of document.querySelectorAll('.function-repr-contents')) {\n",
              "        element.onclick = (event) => {\n",
              "          event.preventDefault();\n",
              "          event.stopPropagation();\n",
              "          element.classList.toggle('function-repr-contents-collapsed');\n",
              "        };\n",
              "      }\n",
              "      </script>\n",
              "      </div>"
            ]
          },
          "metadata": {},
          "execution_count": 15
        }
      ]
    },
    {
      "cell_type": "code",
      "source": [
        "def examples(self, lang=\"eng\"):\n",
        "        \"\"\"Return examples in specified language\"\"\"\n",
        "        return self._doc(\"exe\", self._examples, lang=lang)"
      ],
      "metadata": {
        "id": "88G83h0welqi"
      },
      "execution_count": null,
      "outputs": []
    },
    {
      "cell_type": "code",
      "source": [
        "for synset in sig_car:\n",
        "    ejemplos = synset.examples()\n",
        "\n",
        "    print(\"Ejemplos para synset '{}':\".format(synset.name()))\n",
        "    for ejemplo in ejemplos:\n",
        "        print(\"-\", ejemplo)\n",
        "    print()"
      ],
      "metadata": {
        "colab": {
          "base_uri": "https://localhost:8080/"
        },
        "id": "0VUWQ29Oe0oF",
        "outputId": "23b8da5b-ffcd-4f55-95bf-0c236f093b47"
      },
      "execution_count": null,
      "outputs": [
        {
          "output_type": "stream",
          "name": "stdout",
          "text": [
            "Ejemplos para synset 'car.n.01':\n",
            "- he needs a car to get to work\n",
            "\n",
            "Ejemplos para synset 'car.n.02':\n",
            "- three cars had jumped the rails\n",
            "\n",
            "Ejemplos para synset 'car.n.03':\n",
            "\n",
            "Ejemplos para synset 'car.n.04':\n",
            "- the car was on the top floor\n",
            "\n",
            "Ejemplos para synset 'cable_car.n.01':\n",
            "- they took a cable car to the top of the mountain\n",
            "\n"
          ]
        }
      ]
    },
    {
      "cell_type": "markdown",
      "source": [
        "## Paso 4. Construimos estructuras de datos para almacenar de forma compacta múltiples datos"
      ],
      "metadata": {
        "id": "NDVjcGgZ0kV4"
      }
    },
    {
      "cell_type": "code",
      "source": [
        "lista_sinonimos = []\n",
        "for syn in enumerate(wn.synsets('car')):\n",
        "  print(syn)\n",
        "  print(wn.synsets('car')[syn[0]].lemmas())\n",
        "  print(wn.synsets('car')[syn[0]].lemma_names())\n",
        "  print()\n",
        "  lista_sinonimos.append(wn.synsets('car')[syn[0]].lemma_names())\n",
        "lista_sinonimos"
      ],
      "metadata": {
        "colab": {
          "base_uri": "https://localhost:8080/"
        },
        "id": "bOHexFKO-1_8",
        "outputId": "dfaa61a5-6a04-478e-f870-95255791c5ab"
      },
      "execution_count": null,
      "outputs": [
        {
          "output_type": "stream",
          "name": "stdout",
          "text": [
            "(0, Synset('car.n.01'))\n",
            "[Lemma('car.n.01.car'), Lemma('car.n.01.auto'), Lemma('car.n.01.automobile'), Lemma('car.n.01.machine'), Lemma('car.n.01.motorcar')]\n",
            "['car', 'auto', 'automobile', 'machine', 'motorcar']\n",
            "\n",
            "(1, Synset('car.n.02'))\n",
            "[Lemma('car.n.02.car'), Lemma('car.n.02.railcar'), Lemma('car.n.02.railway_car'), Lemma('car.n.02.railroad_car')]\n",
            "['car', 'railcar', 'railway_car', 'railroad_car']\n",
            "\n",
            "(2, Synset('car.n.03'))\n",
            "[Lemma('car.n.03.car'), Lemma('car.n.03.gondola')]\n",
            "['car', 'gondola']\n",
            "\n",
            "(3, Synset('car.n.04'))\n",
            "[Lemma('car.n.04.car'), Lemma('car.n.04.elevator_car')]\n",
            "['car', 'elevator_car']\n",
            "\n",
            "(4, Synset('cable_car.n.01'))\n",
            "[Lemma('cable_car.n.01.cable_car'), Lemma('cable_car.n.01.car')]\n",
            "['cable_car', 'car']\n",
            "\n"
          ]
        },
        {
          "output_type": "execute_result",
          "data": {
            "text/plain": [
              "[['car', 'auto', 'automobile', 'machine', 'motorcar'],\n",
              " ['car', 'railcar', 'railway_car', 'railroad_car'],\n",
              " ['car', 'gondola'],\n",
              " ['car', 'elevator_car'],\n",
              " ['cable_car', 'car']]"
            ]
          },
          "metadata": {},
          "execution_count": 18
        }
      ]
    },
    {
      "cell_type": "code",
      "source": [
        "[wn.synsets('car')[syn[0]].lemma_names() for syn in enumerate (wn.synsets('car'))]\n",
        "[lemma.name() for lemma in wn.synset('car.n.01').lemmas()]\n",
        "lista_sinonimos_car = []\n",
        "for synset in sig_car:\n",
        "  lista_sinonimos_car.append(synset.lemma_names)\n",
        "\n",
        "lista_sinonimos"
      ],
      "metadata": {
        "colab": {
          "base_uri": "https://localhost:8080/"
        },
        "id": "Cb3KAnt0_qqe",
        "outputId": "33e25359-e078-4ace-af5d-2c3271780107"
      },
      "execution_count": null,
      "outputs": [
        {
          "output_type": "execute_result",
          "data": {
            "text/plain": [
              "[['car', 'auto', 'automobile', 'machine', 'motorcar'],\n",
              " ['car', 'railcar', 'railway_car', 'railroad_car'],\n",
              " ['car', 'gondola'],\n",
              " ['car', 'elevator_car'],\n",
              " ['cable_car', 'car']]"
            ]
          },
          "metadata": {},
          "execution_count": 19
        }
      ]
    },
    {
      "cell_type": "code",
      "source": [
        "# Otra opción sería esta:\n",
        "\n",
        "lemas_car = []\n",
        "\n",
        "for n in range(0,5):\n",
        "  lemas = sig_car[n].lemmas()\n",
        "  nombres = [lemas[l].name() for l in range(0, len(lemas))]\n",
        "  lemas_car.append(nombres)\n",
        "print(lemas_car)"
      ],
      "metadata": {
        "colab": {
          "base_uri": "https://localhost:8080/"
        },
        "id": "RqMmmF58jcNk",
        "outputId": "ce9278be-9db8-4683-d1be-930de7624e0a"
      },
      "execution_count": null,
      "outputs": [
        {
          "output_type": "stream",
          "name": "stdout",
          "text": [
            "[['car', 'auto', 'automobile', 'machine', 'motorcar'], ['car', 'railcar', 'railway_car', 'railroad_car'], ['car', 'gondola'], ['car', 'elevator_car'], ['cable_car', 'car']]\n"
          ]
        }
      ]
    },
    {
      "cell_type": "markdown",
      "source": [
        "## Paso 5. Crear una función para obtener la lista de sinónimos para cualquier palabra."
      ],
      "metadata": {
        "id": "CXQTeZyl-I7p"
      }
    },
    {
      "cell_type": "code",
      "source": [
        "from nltk.corpus import wordnet as wn\n",
        "\n",
        "def sinonimos(word):\n",
        "    conjunto_sinonimos = set()\n",
        "    for synset in wn.synsets(word):\n",
        "        sinonimos_synset = synset.lemma_names()\n",
        "        conjunto_sinonimos.update(sinonimos_synset)\n",
        "    return list(conjunto_sinonimos)"
      ],
      "metadata": {
        "id": "L16GokRe1-Uq"
      },
      "execution_count": null,
      "outputs": []
    },
    {
      "cell_type": "code",
      "source": [
        "# Obtenemos los sinónimos para la palabra 'car' y mostrarlos\n",
        "sinonimos('car')"
      ],
      "metadata": {
        "colab": {
          "base_uri": "https://localhost:8080/"
        },
        "id": "rmJPf1Fn3JgX",
        "outputId": "95ed56ed-4d03-40ae-bf0e-4fb246419efe"
      },
      "execution_count": null,
      "outputs": [
        {
          "output_type": "execute_result",
          "data": {
            "text/plain": [
              "['elevator_car',\n",
              " 'machine',\n",
              " 'car',\n",
              " 'railcar',\n",
              " 'gondola',\n",
              " 'railway_car',\n",
              " 'railroad_car',\n",
              " 'motorcar',\n",
              " 'cable_car',\n",
              " 'automobile',\n",
              " 'auto']"
            ]
          },
          "metadata": {},
          "execution_count": 22
        }
      ]
    },
    {
      "cell_type": "code",
      "source": [
        "# probamos con otra palabra\n",
        "sinonimos('plant')"
      ],
      "metadata": {
        "colab": {
          "base_uri": "https://localhost:8080/"
        },
        "id": "C2QFbgcf2CCZ",
        "outputId": "c3ecdc2c-2b83-4bdd-85ad-746b4047da6c"
      },
      "execution_count": null,
      "outputs": [
        {
          "output_type": "execute_result",
          "data": {
            "text/plain": [
              "['embed',\n",
              " 'plant_life',\n",
              " 'industrial_plant',\n",
              " 'works',\n",
              " 'set',\n",
              " 'constitute',\n",
              " 'implant',\n",
              " 'imbed',\n",
              " 'found',\n",
              " 'institute',\n",
              " 'flora',\n",
              " 'plant',\n",
              " 'engraft',\n",
              " 'establish']"
            ]
          },
          "metadata": {},
          "execution_count": 23
        }
      ]
    },
    {
      "cell_type": "markdown",
      "source": [
        "## Paso 6. Crear un diccionario con la descripción de cada synset de una palabra mediante un vector de palabras"
      ],
      "metadata": {
        "id": "Dx9p6j553z14"
      }
    },
    {
      "cell_type": "code",
      "source": [
        "# Probamos cómo se metería manualmente un dato en el diccionario\n",
        "d = {}\n",
        "d['car.n.01']=('a', 'motor', 'vehicle', 'with', 'four', 'wheels', 'usually', 'propelled', 'by', 'an', 'internal', 'combustion', 'engine')\n",
        "d"
      ],
      "metadata": {
        "colab": {
          "base_uri": "https://localhost:8080/"
        },
        "id": "eNp5CznifVEo",
        "outputId": "de374c13-63cd-41b5-bfde-52ab754aaa2d"
      },
      "execution_count": null,
      "outputs": [
        {
          "output_type": "execute_result",
          "data": {
            "text/plain": [
              "{'car.n.01': ('a',\n",
              "  'motor',\n",
              "  'vehicle',\n",
              "  'with',\n",
              "  'four',\n",
              "  'wheels',\n",
              "  'usually',\n",
              "  'propelled',\n",
              "  'by',\n",
              "  'an',\n",
              "  'internal',\n",
              "  'combustion',\n",
              "  'engine')}"
            ]
          },
          "metadata": {},
          "execution_count": 24
        }
      ]
    },
    {
      "cell_type": "code",
      "source": [
        "## Luego, para cada significado obtenemos el identificador y la lista de palabras de la glosa si la tiene. Si no tiene glosa usamos el vector vacío\n",
        "## Por ejemplo, el primer identificador sería: id = str(wn.synsets('car')[0].name())\n",
        "## La definición del primer identificador sería: wn.synset(id).definition()\n",
        "\n",
        "id = str(wn.synsets('car')[0].name())\n",
        "glosa = wn.synset(id).definition()\n",
        "glosa\n"
      ],
      "metadata": {
        "colab": {
          "base_uri": "https://localhost:8080/",
          "height": 35
        },
        "id": "xWGLcXUzfZWk",
        "outputId": "f16e47ae-d087-4832-9220-c66a79f73af8"
      },
      "execution_count": null,
      "outputs": [
        {
          "output_type": "execute_result",
          "data": {
            "text/plain": [
              "'a motor vehicle with four wheels; usually propelled by an internal combustion engine'"
            ],
            "application/vnd.google.colaboratory.intrinsic+json": {
              "type": "string"
            }
          },
          "metadata": {},
          "execution_count": 25
        }
      ]
    },
    {
      "cell_type": "code",
      "source": [
        "## Me queda segmentar la definición en palabras (tokenizar), lo haré con split() aunque no elimina los símbolos de puntuación\n",
        "glosa.split()"
      ],
      "metadata": {
        "colab": {
          "base_uri": "https://localhost:8080/"
        },
        "id": "EcD2t7K8fc--",
        "outputId": "9a99a354-99b4-4d0b-ff29-8e703cfb5253"
      },
      "execution_count": null,
      "outputs": [
        {
          "output_type": "execute_result",
          "data": {
            "text/plain": [
              "['a',\n",
              " 'motor',\n",
              " 'vehicle',\n",
              " 'with',\n",
              " 'four',\n",
              " 'wheels;',\n",
              " 'usually',\n",
              " 'propelled',\n",
              " 'by',\n",
              " 'an',\n",
              " 'internal',\n",
              " 'combustion',\n",
              " 'engine']"
            ]
          },
          "metadata": {},
          "execution_count": 26
        }
      ]
    },
    {
      "cell_type": "code",
      "source": [
        "# Poniendo todo junto en un bucle que itere sobre el número de significados y vaya añadiendo al diccionario\n",
        "# cada par id: vector de palabras:\n",
        "semantica_pal= {}\n",
        "\n",
        "for synset in wn.synsets('car'):\n",
        "    id = synset.name()\n",
        "    glosa = wn.synset(id).definition().split()\n",
        "    semantica_pal[id] = glosa\n",
        "\n",
        "for key, value in semantica_pal.items():\n",
        "    print(f'{key}: {value}')"
      ],
      "metadata": {
        "colab": {
          "base_uri": "https://localhost:8080/"
        },
        "id": "0Oj0I6gpiGx2",
        "outputId": "344e95a8-b8b6-480a-bb81-c0cd227375d6"
      },
      "execution_count": null,
      "outputs": [
        {
          "output_type": "stream",
          "name": "stdout",
          "text": [
            "car.n.01: ['a', 'motor', 'vehicle', 'with', 'four', 'wheels;', 'usually', 'propelled', 'by', 'an', 'internal', 'combustion', 'engine']\n",
            "car.n.02: ['a', 'wheeled', 'vehicle', 'adapted', 'to', 'the', 'rails', 'of', 'railroad']\n",
            "car.n.03: ['the', 'compartment', 'that', 'is', 'suspended', 'from', 'an', 'airship', 'and', 'that', 'carries', 'personnel', 'and', 'the', 'cargo', 'and', 'the', 'power', 'plant']\n",
            "car.n.04: ['where', 'passengers', 'ride', 'up', 'and', 'down']\n",
            "cable_car.n.01: ['a', 'conveyance', 'for', 'passengers', 'or', 'freight', 'on', 'a', 'cable', 'railway']\n"
          ]
        }
      ]
    },
    {
      "cell_type": "markdown",
      "source": [
        "## Paso 7. Volcar los resultados en un archivo para poder utilizarlos en otros programas"
      ],
      "metadata": {
        "id": "hOBVqog436my"
      }
    },
    {
      "cell_type": "code",
      "source": [
        "import json\n",
        "# cuidado aquí debes poner la ruta de la carpeta donde se creará el archivo json\n",
        "\n",
        "with open('datos.json', 'w') as g:\n",
        "    json.dump(semantica_pal,g)"
      ],
      "metadata": {
        "id": "sdxlWlx2i6bx"
      },
      "execution_count": null,
      "outputs": []
    }
  ]
}